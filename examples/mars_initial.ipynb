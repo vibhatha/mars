{
 "cells": [
  {
   "cell_type": "code",
   "execution_count": 8,
   "metadata": {},
   "outputs": [
    {
     "name": "stdout",
     "output_type": "stream",
     "text": [
      "2.00013158\n",
      "CPU times: user 7.65 s, sys: 858 ms, total: 8.51 s\n",
      "Wall time: 8.51 s\n"
     ]
    }
   ],
   "source": [
    "%%time\n",
    "import numpy as np\n",
    "N = 200_000_000\n",
    "a = np.random.uniform(-1, 1, size=(N, 2))\n",
    "print((np.linalg.norm(a, ord=1, axis=1) < 1)\n",
    "      .sum() * 4 / N)"
   ]
  },
  {
   "cell_type": "code",
   "execution_count": 9,
   "metadata": {},
   "outputs": [
    {
     "name": "stdout",
     "output_type": "stream",
     "text": [
      "Tensor Linalg Norm\n",
      "2.00010608\n",
      "CPU times: user 13.9 s, sys: 1.71 s, total: 15.6 s\n",
      "Wall time: 2.95 s\n"
     ]
    }
   ],
   "source": [
    "%%time\n",
    "import mars.tensor as mt\n",
    "N = 200_000_000\n",
    "a = mt.random.uniform(-1, 1, size=(N, 2))\n",
    "print(((mt.linalg.norm(a, ord=1, axis=1) < 1)\n",
    "        .sum() * 4 / N).execute())"
   ]
  },
  {
   "cell_type": "code",
   "execution_count": null,
   "metadata": {},
   "outputs": [],
   "source": []
  },
  {
   "cell_type": "code",
   "execution_count": null,
   "metadata": {},
   "outputs": [],
   "source": []
  },
  {
   "cell_type": "code",
   "execution_count": null,
   "metadata": {},
   "outputs": [],
   "source": []
  },
  {
   "cell_type": "code",
   "execution_count": null,
   "metadata": {},
   "outputs": [],
   "source": []
  }
 ],
 "metadata": {
  "kernelspec": {
   "display_name": "ENVMARS",
   "language": "python",
   "name": "envmars"
  },
  "language_info": {
   "codemirror_mode": {
    "name": "ipython",
    "version": 3
   },
   "file_extension": ".py",
   "mimetype": "text/x-python",
   "name": "python",
   "nbconvert_exporter": "python",
   "pygments_lexer": "ipython3",
   "version": "3.7.6"
  }
 },
 "nbformat": 4,
 "nbformat_minor": 4
}
